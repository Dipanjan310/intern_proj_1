{
 "cells": [
  {
   "cell_type": "code",
   "execution_count": 11,
   "metadata": {},
   "outputs": [
    {
     "data": {
      "image/png": "[encoded data removed]",
      "text/plain": [
       "<Figure size 368.626x368.626 with 1 Axes>"
      ]
     },
     "metadata": {},
     "output_type": "display_data"
    },
    {
     "ename": "AttributeError",
     "evalue": "'NoneType' object has no attribute 'savefig'",
     "output_type": "error",
     "traceback": [
      "\u001b[1;31m---------------------------------------------------------------------------\u001b[0m",
      "\u001b[1;31mAttributeError\u001b[0m                            Traceback (most recent call last)",
      "Cell \u001b[1;32mIn[11], line 39\u001b[0m\n\u001b[0;32m     37\u001b[0m \u001b[38;5;66;03m# Save and visualize circuit\u001b[39;00m\n\u001b[0;32m     38\u001b[0m fig \u001b[38;5;241m=\u001b[39m qc\u001b[38;5;241m.\u001b[39mdraw()\n\u001b[1;32m---> 39\u001b[0m \u001b[43mfig\u001b[49m\u001b[38;5;241;43m.\u001b[39;49m\u001b[43msavefig\u001b[49m(\u001b[38;5;124m\"\u001b[39m\u001b[38;5;124mstatic/generated_circuit.png\u001b[39m\u001b[38;5;124m\"\u001b[39m)\n",
      "\u001b[1;31mAttributeError\u001b[0m: 'NoneType' object has no attribute 'savefig'"
     ]
    }
   ],
   "source": [
    "import json\n",
    "import qutip\n",
    "import numpy as np\n",
    "from qutip import Qobj\n",
    "from qutip_qip.operations import rx\n",
    "from qutip_qip.circuit import QubitCircuit\n",
    "\n",
    "# Load input from file\n",
    "import os\n",
    "\n",
    "if not os.path.exists(\"circuit_input.json\"):\n",
    "    print(\"Error: circuit_input.json not found. Make sure app.py creates it before running this notebook.\")\n",
    "    data = {\"gates\": []}  # Use an empty default circuit\n",
    "else:\n",
    "    with open(\"circuit_input.json\", \"r\") as f:\n",
    "        data = json.load(f)\n",
    "\n",
    "\n",
    "# Extract gate sequence\n",
    "gate_sequence = data.get(\"gates\", [])\n",
    "\n",
    "# Initialize circuit\n",
    "qc = QubitCircuit(2, num_cbits=1)\n",
    "\n",
    "# Add gates dynamically based on input\n",
    "for gate in gate_sequence:\n",
    "    if gate[\"type\"] == \"H\":\n",
    "        qc.add_gate(\"SNOT\", targets=gate[\"qubits\"][0])\n",
    "    elif gate[\"type\"] == \"X\":\n",
    "        qc.add_gate(\"X\", targets=gate[\"qubits\"][0])\n",
    "    elif gate[\"type\"] == \"CNOT\":\n",
    "        qc.add_gate(\"CNOT\", controls=gate[\"controls\"], targets=gate[\"targets\"])\n",
    "\n",
    "# Add measurement\n",
    "qc.add_measurement(\"M0\", targets=1, classical_store=0)\n",
    "\n",
    "# Save and visualize circuit\n",
    "fig = qc.draw()\n",
    "fig.savefig(\"static/generated_circuit.png\")\n"
   ]
  },
  {
   "cell_type": "code",
   "execution_count": null,
   "metadata": {},
   "outputs": [],
   "source": []
  }
 ],
 "metadata": {
  "kernelspec": {
   "display_name": "cwq1",
   "language": "python",
   "name": "python3"
  },
  "language_info": {
   "codemirror_mode": {
    "name": "ipython",
    "version": 3
   },
   "file_extension": ".py",
   "mimetype": "text/x-python",
   "name": "python",
   "nbconvert_exporter": "python",
   "pygments_lexer": "ipython3",
   "version": "3.12.3"
  }
 },
 "nbformat": 4,
 "nbformat_minor": 2
}
